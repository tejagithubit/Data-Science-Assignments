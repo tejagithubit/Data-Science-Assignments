{
 "cells": [
  {
   "cell_type": "markdown",
   "id": "37cde798",
   "metadata": {},
   "source": [
    "# Scenario"
   ]
  },
  {
   "cell_type": "markdown",
   "id": "d22f52cf",
   "metadata": {},
   "source": [
    "A manufacturer of print-heads for personal computers is interested in estimating the mean durability of their print-heads in terms of the number of characters printed before failure. To assess this, the manufacturer conducts a study on a small sample of print-heads due to the destructive nature of the testing process.\n",
    "\n"
   ]
  },
  {
   "cell_type": "code",
   "execution_count": 1,
   "id": "baea9e68",
   "metadata": {},
   "outputs": [],
   "source": [
    "import numpy as np\n",
    "from scipy.stats import norm,t\n",
    "import scipy.stats as stats"
   ]
  },
  {
   "cell_type": "code",
   "execution_count": 2,
   "id": "ae2120be",
   "metadata": {},
   "outputs": [],
   "source": [
    "df = [1.13, 1.55, 1.43, 0.92, 1.25, 1.36, 1.32, 0.85, 1.07, 1.48, 1.20, 1.33, 1.18, 1.22, 1.29]"
   ]
  },
  {
   "cell_type": "code",
   "execution_count": 4,
   "id": "65553e61",
   "metadata": {},
   "outputs": [],
   "source": [
    "# Build 99% Confidence Interval Using Sample Standard Deviation\n",
    "n = len(df)\n",
    "df_mean = np.mean(df)\n",
    "df_std = np.std(df,ddof =1)  # Use ddof=1 to get the sample standard deviation\n",
    "confidence_level = 0.99 \n",
    "alpha = 1- confidence_level  # 99% confidence level means alpha is 0.01\n",
    "t_critical = stats.t.ppf(1-alpha/2,df = n-1)"
   ]
  },
  {
   "cell_type": "code",
   "execution_count": 6,
   "id": "4b192fec",
   "metadata": {},
   "outputs": [
    {
     "name": "stdout",
     "output_type": "stream",
     "text": [
      "99% of Confidence_Interval using margin of error and confidence interval:\n",
      "(1.090197338451367, 1.3871359948819662)\n"
     ]
    }
   ],
   "source": [
    "# margin of error and confidence interval \n",
    "margin_of_error_t = t_critical*df_std/np.sqrt(n)\n",
    "\n",
    "confidence_interval_t =  df_mean-margin_of_error_t,df_mean+margin_of_error_t\n",
    "print(\"99% of Confidence_Interval using margin of error and confidence interval:\")\n",
    "print(confidence_interval_t)"
   ]
  },
  {
   "cell_type": "code",
   "execution_count": 7,
   "id": "026c9a84",
   "metadata": {},
   "outputs": [],
   "source": [
    "# Build 99% Confidence Interval Using known population Standard Deviation\n",
    "population_std = 0.2\n",
    "z_critical = stats.norm.ppf(1-alpha/2)\n",
    "\n",
    "margin_of_error_z = z_critical * population_std/np.sqrt(n)\n",
    "confidence_interval_z = df_mean-margin_of_error_z,df_mean+margin_of_error_z"
   ]
  },
  {
   "cell_type": "code",
   "execution_count": 8,
   "id": "046e2478",
   "metadata": {},
   "outputs": [
    {
     "name": "stdout",
     "output_type": "stream",
     "text": [
      "99% of confidence interval using known population standard deviation\n",
      "(1.1056514133957607, 1.3716819199375725)\n"
     ]
    }
   ],
   "source": [
    "print(f\"99% of confidence interval using known population standard deviation\")\n",
    "print(confidence_interval_z)"
   ]
  },
  {
   "cell_type": "markdown",
   "id": "3eb50a91",
   "metadata": {},
   "source": [
    "# conclusion"
   ]
  },
  {
   "cell_type": "markdown",
   "id": "8d584b9c",
   "metadata": {},
   "source": [
    "The two tasks successfully constructed 99% confidence intervals for the mean durability of print-heads, using both the sample and known population standard deviations. The t-distribution was used for the sample standard deviation due to the small sample size, while the z-distribution was applied for the known population standard deviation. Both methods provided slightly different confidence intervals, reflecting the impact of using sample versus population data."
   ]
  }
 ],
 "metadata": {
  "kernelspec": {
   "display_name": "Python 3 (ipykernel)",
   "language": "python",
   "name": "python3"
  },
  "language_info": {
   "codemirror_mode": {
    "name": "ipython",
    "version": 3
   },
   "file_extension": ".py",
   "mimetype": "text/x-python",
   "name": "python",
   "nbconvert_exporter": "python",
   "pygments_lexer": "ipython3",
   "version": "3.10.9"
  }
 },
 "nbformat": 4,
 "nbformat_minor": 5
}
