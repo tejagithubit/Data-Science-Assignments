{
 "cells": [
  {
   "cell_type": "markdown",
   "id": "6753be69",
   "metadata": {},
   "source": [
    "# PYTHON PROGRAMMING ASSIGNMENT"
   ]
  },
  {
   "cell_type": "markdown",
   "id": "aaede1d0",
   "metadata": {},
   "source": [
    "Coding exercicses "
   ]
  },
  {
   "cell_type": "code",
   "execution_count": 24,
   "id": "f3b68ff1",
   "metadata": {},
   "outputs": [
    {
     "name": "stdout",
     "output_type": "stream",
     "text": [
      "Enter a number: 127\n",
      "127 is a prime number.\n"
     ]
    }
   ],
   "source": [
    "# Exercise 1: Prime Numbers\n",
    "\n",
    "# This program checks whether a given number is prime or not.\n",
    "\n",
    "def is_prime(number):\n",
    "    # Check if the number is less than or equal to 1\n",
    "    if number <= 1:\n",
    "        return False\n",
    "    # Check for factors from 2 to the square root of the number\n",
    "    for i in range(2, int(number**0.5) + 1):\n",
    "        if number % i == 0:\n",
    "            return False\n",
    "    return True\n",
    "\n",
    "# Test the function\n",
    "num = int(input(\"Enter a number: \"))\n",
    "if is_prime(num):\n",
    "    print(f\"{num} is a prime number.\")\n",
    "else:\n",
    "    print(f\"{num} is not a prime number.\")\n"
   ]
  },
  {
   "cell_type": "code",
   "execution_count": 8,
   "id": "b058caaf",
   "metadata": {},
   "outputs": [
    {
     "name": "stdout",
     "output_type": "stream",
     "text": [
      "the product of 8 and 8 is:12\n",
      "incorrect.\n",
      "    \n",
      "the product of 8 and 8 is 64.\n"
     ]
    }
   ],
   "source": [
    "# Exercise 2: Product of Random Numbers\n",
    "\n",
    "# This program generates two random numbers, asks for their product, and checks the user's answer.\n",
    "\n",
    "import random\n",
    "num1 = random.randint(1,10)\n",
    "num2 = random.randint(1,10)\n",
    "\n",
    "random_product = num1 * num2\n",
    "user_input = int(input(f'the product of {num1} and {num2} is:'))\n",
    "\n",
    "if user_input == random_product:\n",
    "    print('correct')\n",
    "else:\n",
    "    print(f\"\"\"incorrect.\n",
    "    \n",
    "the product of {num1} and {num2} is {random_product}.\"\"\")"
   ]
  },
  {
   "cell_type": "code",
   "execution_count": 25,
   "id": "0aa4db80",
   "metadata": {},
   "outputs": [
    {
     "name": "stdout",
     "output_type": "stream",
     "text": [
      "100 ^ 2 =10000\n",
      "102 ^ 2 =10404\n",
      "104 ^ 2 =10816\n",
      "106 ^ 2 =11236\n",
      "108 ^ 2 =11664\n",
      "110 ^ 2 =12100\n",
      "112 ^ 2 =12544\n",
      "114 ^ 2 =12996\n",
      "116 ^ 2 =13456\n",
      "118 ^ 2 =13924\n",
      "120 ^ 2 =14400\n",
      "122 ^ 2 =14884\n",
      "124 ^ 2 =15376\n",
      "126 ^ 2 =15876\n",
      "128 ^ 2 =16384\n",
      "130 ^ 2 =16900\n",
      "132 ^ 2 =17424\n",
      "134 ^ 2 =17956\n",
      "136 ^ 2 =18496\n",
      "138 ^ 2 =19044\n",
      "140 ^ 2 =19600\n",
      "142 ^ 2 =20164\n",
      "144 ^ 2 =20736\n",
      "146 ^ 2 =21316\n",
      "148 ^ 2 =21904\n",
      "150 ^ 2 =22500\n",
      "152 ^ 2 =23104\n",
      "154 ^ 2 =23716\n",
      "156 ^ 2 =24336\n",
      "158 ^ 2 =24964\n",
      "160 ^ 2 =25600\n",
      "162 ^ 2 =26244\n",
      "164 ^ 2 =26896\n",
      "166 ^ 2 =27556\n",
      "168 ^ 2 =28224\n",
      "170 ^ 2 =28900\n",
      "172 ^ 2 =29584\n",
      "174 ^ 2 =30276\n",
      "176 ^ 2 =30976\n",
      "178 ^ 2 =31684\n",
      "180 ^ 2 =32400\n",
      "182 ^ 2 =33124\n",
      "184 ^ 2 =33856\n",
      "186 ^ 2 =34596\n",
      "188 ^ 2 =35344\n",
      "190 ^ 2 =36100\n",
      "192 ^ 2 =36864\n",
      "194 ^ 2 =37636\n",
      "196 ^ 2 =38416\n",
      "198 ^ 2 =39204\n",
      "200 ^ 2 =40000\n"
     ]
    }
   ],
   "source": [
    "# Exercise 3: Squares of Even Numbers\n",
    "\n",
    "# This script prints the squares of all even numbers within the range of 100 to 200.\n",
    "\n",
    "# We choose even numbers for this tasprint('the squares between 100 and 200:-')\n",
    "\n",
    "for i in range(100,201):\n",
    "    if i % 2==0:\n",
    "        print(f'{i} ^ {2} ={i**2}')"
   ]
  },
  {
   "cell_type": "code",
   "execution_count": 11,
   "id": "19dcb39b",
   "metadata": {},
   "outputs": [
    {
     "name": "stdout",
     "output_type": "stream",
     "text": [
      "'this': 2\n",
      "'is': 1\n",
      "'a': 1\n",
      "'sample': 1\n",
      "'text': 2\n",
      "'will': 1\n",
      "'be': 1\n",
      "'used': 1\n",
      "'to': 1\n",
      "'demonstrate': 1\n",
      "'the': 1\n",
      "'word': 1\n",
      "'counter': 1\n"
     ]
    }
   ],
   "source": [
    "# Exercise 4: Word Counter\n",
    "\n",
    "# This program counts the number of occurrences of each word in a given text.\n",
    "\n",
    "text =  \"This is a sample text. This text will be used to demonstrate the word counter.\"\n",
    "\n",
    "# Convert the text to lowercase and split into words\n",
    "words = text.lower().split()\n",
    "\n",
    "# Create a dictionary to count occurrences of each word\n",
    "word_count = {}\n",
    "\n",
    "for word in words :\n",
    "    word = word.strip('.,!?')\n",
    "    if word in word_count:\n",
    "        word_count[word] += 1\n",
    "    else:\n",
    "        word_count[word] = 1\n",
    "        \n",
    "# Display the word counts\n",
    "for word, count in word_count.items():\n",
    "    print(f\"'{word}': {count}\")"
   ]
  },
  {
   "cell_type": "code",
   "execution_count": 17,
   "id": "45199aa9",
   "metadata": {},
   "outputs": [
    {
     "name": "stdout",
     "output_type": "stream",
     "text": [
      "enter a string: 12\n",
      "12' is not a palindrome\n"
     ]
    }
   ],
   "source": [
    "# Exercise 5: Check for Palindrome\n",
    "\n",
    "# This function checks whether a given string is a palindrome.\n",
    "\n",
    "def is_palidrome(s):\n",
    "    'Check if a string is a palindrome.'\n",
    "    # Remove spaces, punctuation, and convert to lowercase\n",
    "    \n",
    "    cleaned_string = \"\".join(char.lower() for char in s if char.isalnum())\n",
    "    # Check if the string reads the same forward and backward\n",
    "    return cleaned_string == cleaned_string[::-1]\n",
    "\n",
    "input_str = input('enter a string: ')\n",
    "if is_palidrome(input_str):\n",
    "    print(f\"{input_str}' is a palindrome\")\n",
    "else:\n",
    "    print(f\"{input_str}' is not a palindrome\")"
   ]
  },
  {
   "cell_type": "markdown",
   "id": "91193c78",
   "metadata": {},
   "source": [
    "# conclusion"
   ]
  },
  {
   "cell_type": "markdown",
   "id": "d20b8e89",
   "metadata": {},
   "source": [
    "These exercises reinforced key programming concepts including prime checking, random number operations, iteration, string manipulation, and conditionals. The tasks ranged from mathematical checks to user interaction, demonstrating essential Python skills in a Jupyter notebook environment"
   ]
  },
  {
   "cell_type": "code",
   "execution_count": null,
   "id": "a8a398c0",
   "metadata": {},
   "outputs": [],
   "source": []
  }
 ],
 "metadata": {
  "kernelspec": {
   "display_name": "Python 3 (ipykernel)",
   "language": "python",
   "name": "python3"
  },
  "language_info": {
   "codemirror_mode": {
    "name": "ipython",
    "version": 3
   },
   "file_extension": ".py",
   "mimetype": "text/x-python",
   "name": "python",
   "nbconvert_exporter": "python",
   "pygments_lexer": "ipython3",
   "version": "3.10.9"
  }
 },
 "nbformat": 4,
 "nbformat_minor": 5
}
