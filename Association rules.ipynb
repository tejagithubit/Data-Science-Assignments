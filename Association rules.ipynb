{
 "cells": [
  {
   "cell_type": "markdown",
   "id": "f4b70326",
   "metadata": {},
   "source": [
    "## ASSOCIATION RULES\n"
   ]
  },
  {
   "cell_type": "markdown",
   "id": "d116b987",
   "metadata": {},
   "source": [
    "### Objective"
   ]
  },
  {
   "cell_type": "markdown",
   "id": "d2f8d353",
   "metadata": {},
   "source": [
    "The Objective of this assignment is to introduce students to rule mining techniques, particularly focusing on market basket analysis and provide hands on experience.\n",
    "\n"
   ]
  },
  {
   "cell_type": "code",
   "execution_count": 1,
   "id": "ec6d5788",
   "metadata": {},
   "outputs": [],
   "source": [
    "#Import Libraries\n",
    "import numpy as np\n",
    "import pandas as pd\n",
    "import warnings\n",
    "warnings.filterwarnings('ignore')\n",
    "from mlxtend.frequent_patterns import association_rules,apriori\n",
    "from mlxtend.preprocessing import TransactionEncoder"
   ]
  },
  {
   "cell_type": "code",
   "execution_count": 2,
   "id": "c98d3d68",
   "metadata": {},
   "outputs": [],
   "source": [
    "df = pd.read_excel(\"Online retail.xlsx\")"
   ]
  },
  {
   "cell_type": "code",
   "execution_count": 3,
   "id": "f57603ad",
   "metadata": {},
   "outputs": [
    {
     "data": {
      "text/html": [
       "<div>\n",
       "<style scoped>\n",
       "    .dataframe tbody tr th:only-of-type {\n",
       "        vertical-align: middle;\n",
       "    }\n",
       "\n",
       "    .dataframe tbody tr th {\n",
       "        vertical-align: top;\n",
       "    }\n",
       "\n",
       "    .dataframe thead th {\n",
       "        text-align: right;\n",
       "    }\n",
       "</style>\n",
       "<table border=\"1\" class=\"dataframe\">\n",
       "  <thead>\n",
       "    <tr style=\"text-align: right;\">\n",
       "      <th></th>\n",
       "      <th>shrimp,almonds,avocado,vegetables mix,green grapes,whole weat flour,yams,cottage cheese,energy drink,tomato juice,low fat yogurt,green tea,honey,salad,mineral water,salmon,antioxydant juice,frozen smoothie,spinach,olive oil</th>\n",
       "    </tr>\n",
       "  </thead>\n",
       "  <tbody>\n",
       "    <tr>\n",
       "      <th>0</th>\n",
       "      <td>burgers,meatballs,eggs</td>\n",
       "    </tr>\n",
       "    <tr>\n",
       "      <th>1</th>\n",
       "      <td>chutney</td>\n",
       "    </tr>\n",
       "    <tr>\n",
       "      <th>2</th>\n",
       "      <td>turkey,avocado</td>\n",
       "    </tr>\n",
       "    <tr>\n",
       "      <th>3</th>\n",
       "      <td>mineral water,milk,energy bar,whole wheat rice...</td>\n",
       "    </tr>\n",
       "    <tr>\n",
       "      <th>4</th>\n",
       "      <td>low fat yogurt</td>\n",
       "    </tr>\n",
       "    <tr>\n",
       "      <th>...</th>\n",
       "      <td>...</td>\n",
       "    </tr>\n",
       "    <tr>\n",
       "      <th>7495</th>\n",
       "      <td>butter,light mayo,fresh bread</td>\n",
       "    </tr>\n",
       "    <tr>\n",
       "      <th>7496</th>\n",
       "      <td>burgers,frozen vegetables,eggs,french fries,ma...</td>\n",
       "    </tr>\n",
       "    <tr>\n",
       "      <th>7497</th>\n",
       "      <td>chicken</td>\n",
       "    </tr>\n",
       "    <tr>\n",
       "      <th>7498</th>\n",
       "      <td>escalope,green tea</td>\n",
       "    </tr>\n",
       "    <tr>\n",
       "      <th>7499</th>\n",
       "      <td>eggs,frozen smoothie,yogurt cake,low fat yogurt</td>\n",
       "    </tr>\n",
       "  </tbody>\n",
       "</table>\n",
       "<p>7500 rows × 1 columns</p>\n",
       "</div>"
      ],
      "text/plain": [
       "     shrimp,almonds,avocado,vegetables mix,green grapes,whole weat flour,yams,cottage cheese,energy drink,tomato juice,low fat yogurt,green tea,honey,salad,mineral water,salmon,antioxydant juice,frozen smoothie,spinach,olive oil\n",
       "0                                burgers,meatballs,eggs                                                                                                                                                                             \n",
       "1                                               chutney                                                                                                                                                                             \n",
       "2                                        turkey,avocado                                                                                                                                                                             \n",
       "3     mineral water,milk,energy bar,whole wheat rice...                                                                                                                                                                             \n",
       "4                                        low fat yogurt                                                                                                                                                                             \n",
       "...                                                 ...                                                                                                                                                                             \n",
       "7495                      butter,light mayo,fresh bread                                                                                                                                                                             \n",
       "7496  burgers,frozen vegetables,eggs,french fries,ma...                                                                                                                                                                             \n",
       "7497                                            chicken                                                                                                                                                                             \n",
       "7498                                 escalope,green tea                                                                                                                                                                             \n",
       "7499    eggs,frozen smoothie,yogurt cake,low fat yogurt                                                                                                                                                                             \n",
       "\n",
       "[7500 rows x 1 columns]"
      ]
     },
     "execution_count": 3,
     "metadata": {},
     "output_type": "execute_result"
    }
   ],
   "source": [
    "df"
   ]
  },
  {
   "cell_type": "code",
   "execution_count": 6,
   "id": "01928ef4",
   "metadata": {},
   "outputs": [
    {
     "data": {
      "text/plain": [
       "shrimp,almonds,avocado,vegetables mix,green grapes,whole weat flour,yams,cottage cheese,energy drink,tomato juice,low fat yogurt,green tea,honey,salad,mineral water,salmon,antioxydant juice,frozen smoothie,spinach,olive oil    object\n",
       "dtype: object"
      ]
     },
     "execution_count": 6,
     "metadata": {},
     "output_type": "execute_result"
    }
   ],
   "source": [
    "#Data Preprocessing:\n",
    "df.dtypes"
   ]
  },
  {
   "cell_type": "code",
   "execution_count": 7,
   "id": "b55a2a9b",
   "metadata": {},
   "outputs": [
    {
     "name": "stdout",
     "output_type": "stream",
     "text": [
      "  shrimp,almonds,avocado,vegetables mix,green grapes,whole weat flour,yams,cottage cheese,energy drink,tomato juice,low fat yogurt,green tea,honey,salad,mineral water,salmon,antioxydant juice,frozen smoothie,spinach,olive oil\n",
      "0                             burgers,meatballs,eggs                                                                                                                                                                             \n",
      "1                                            chutney                                                                                                                                                                             \n",
      "2                                     turkey,avocado                                                                                                                                                                             \n",
      "3  mineral water,milk,energy bar,whole wheat rice...                                                                                                                                                                             \n",
      "4                                     low fat yogurt                                                                                                                                                                             \n"
     ]
    }
   ],
   "source": [
    "# Display the first few rows of the dataset\n",
    "print(df.head())"
   ]
  },
  {
   "cell_type": "code",
   "execution_count": 8,
   "id": "62e9af76",
   "metadata": {},
   "outputs": [
    {
     "name": "stdout",
     "output_type": "stream",
     "text": [
      "<class 'pandas.core.frame.DataFrame'>\n",
      "RangeIndex: 7500 entries, 0 to 7499\n",
      "Data columns (total 1 columns):\n",
      " #   Column                                                                                                                                                                                                                           Non-Null Count  Dtype \n",
      "---  ------                                                                                                                                                                                                                           --------------  ----- \n",
      " 0   shrimp,almonds,avocado,vegetables mix,green grapes,whole weat flour,yams,cottage cheese,energy drink,tomato juice,low fat yogurt,green tea,honey,salad,mineral water,salmon,antioxydant juice,frozen smoothie,spinach,olive oil  7500 non-null   object\n",
      "dtypes: object(1)\n",
      "memory usage: 58.7+ KB\n",
      "None\n"
     ]
    }
   ],
   "source": [
    "# Display the column names and data types\n",
    "print(df.info())"
   ]
  },
  {
   "cell_type": "code",
   "execution_count": 9,
   "id": "7a44a2f2",
   "metadata": {},
   "outputs": [],
   "source": [
    "# Data Preprocessing\n",
    "# Split the items in each transaction into a list\n",
    "df['Transaction'] = df.iloc[:, 0].apply(lambda x: x.split(','))"
   ]
  },
  {
   "cell_type": "code",
   "execution_count": 14,
   "id": "52a1587a",
   "metadata": {},
   "outputs": [],
   "source": [
    "# Apply TransactionEncoder to transform the list of items into a one-hot encoded DataFrame\n",
    "te = TransactionEncoder()\n",
    "te_ary = te.fit_transform(df['Transaction'])\n",
    "df_encoded = pd.DataFrame(te_ary,columns = te.columns_)"
   ]
  },
  {
   "cell_type": "code",
   "execution_count": 15,
   "id": "30834d53",
   "metadata": {},
   "outputs": [],
   "source": [
    "# Implement Apriori Algorithm\n",
    "frequent_itemsets = apriori(df_encoded, min_support=0.001, use_colnames=True)\n"
   ]
  },
  {
   "cell_type": "code",
   "execution_count": 16,
   "id": "28664a2d",
   "metadata": {},
   "outputs": [],
   "source": [
    "# Generate the rules\n",
    "rules = association_rules(frequent_itemsets, metric=\"lift\", min_threshold=1)"
   ]
  },
  {
   "cell_type": "code",
   "execution_count": 17,
   "id": "2b6f7718",
   "metadata": {},
   "outputs": [],
   "source": [
    "# Sort rules by lift\n",
    "rules = rules.sort_values(by='lift', ascending=False)"
   ]
  },
  {
   "cell_type": "code",
   "execution_count": 19,
   "id": "d1dd1b34",
   "metadata": {},
   "outputs": [
    {
     "data": {
      "text/html": [
       "<div>\n",
       "<style scoped>\n",
       "    .dataframe tbody tr th:only-of-type {\n",
       "        vertical-align: middle;\n",
       "    }\n",
       "\n",
       "    .dataframe tbody tr th {\n",
       "        vertical-align: top;\n",
       "    }\n",
       "\n",
       "    .dataframe thead th {\n",
       "        text-align: right;\n",
       "    }\n",
       "</style>\n",
       "<table border=\"1\" class=\"dataframe\">\n",
       "  <thead>\n",
       "    <tr style=\"text-align: right;\">\n",
       "      <th></th>\n",
       "      <th>antecedents</th>\n",
       "      <th>consequents</th>\n",
       "      <th>antecedent support</th>\n",
       "      <th>consequent support</th>\n",
       "      <th>support</th>\n",
       "      <th>confidence</th>\n",
       "      <th>lift</th>\n",
       "      <th>representativity</th>\n",
       "      <th>leverage</th>\n",
       "      <th>conviction</th>\n",
       "      <th>zhangs_metric</th>\n",
       "      <th>jaccard</th>\n",
       "      <th>certainty</th>\n",
       "      <th>kulczynski</th>\n",
       "    </tr>\n",
       "  </thead>\n",
       "  <tbody>\n",
       "    <tr>\n",
       "      <th>33927</th>\n",
       "      <td>(pasta, french fries)</td>\n",
       "      <td>(escalope, mushroom cream sauce)</td>\n",
       "      <td>0.003067</td>\n",
       "      <td>0.005733</td>\n",
       "      <td>0.001067</td>\n",
       "      <td>0.347826</td>\n",
       "      <td>60.667341</td>\n",
       "      <td>1.0</td>\n",
       "      <td>0.001049</td>\n",
       "      <td>1.524542</td>\n",
       "      <td>0.986542</td>\n",
       "      <td>0.137931</td>\n",
       "      <td>0.344065</td>\n",
       "      <td>0.266936</td>\n",
       "    </tr>\n",
       "    <tr>\n",
       "      <th>33930</th>\n",
       "      <td>(escalope, mushroom cream sauce)</td>\n",
       "      <td>(pasta, french fries)</td>\n",
       "      <td>0.005733</td>\n",
       "      <td>0.003067</td>\n",
       "      <td>0.001067</td>\n",
       "      <td>0.186047</td>\n",
       "      <td>60.667341</td>\n",
       "      <td>1.0</td>\n",
       "      <td>0.001049</td>\n",
       "      <td>1.224804</td>\n",
       "      <td>0.989188</td>\n",
       "      <td>0.137931</td>\n",
       "      <td>0.183543</td>\n",
       "      <td>0.266936</td>\n",
       "    </tr>\n",
       "    <tr>\n",
       "      <th>33772</th>\n",
       "      <td>(mineral water, pasta)</td>\n",
       "      <td>(shrimp, eggs)</td>\n",
       "      <td>0.002133</td>\n",
       "      <td>0.014133</td>\n",
       "      <td>0.001333</td>\n",
       "      <td>0.625000</td>\n",
       "      <td>44.221698</td>\n",
       "      <td>1.0</td>\n",
       "      <td>0.001303</td>\n",
       "      <td>2.628978</td>\n",
       "      <td>0.979476</td>\n",
       "      <td>0.089286</td>\n",
       "      <td>0.619624</td>\n",
       "      <td>0.359670</td>\n",
       "    </tr>\n",
       "    <tr>\n",
       "      <th>33777</th>\n",
       "      <td>(shrimp, eggs)</td>\n",
       "      <td>(mineral water, pasta)</td>\n",
       "      <td>0.014133</td>\n",
       "      <td>0.002133</td>\n",
       "      <td>0.001333</td>\n",
       "      <td>0.094340</td>\n",
       "      <td>44.221698</td>\n",
       "      <td>1.0</td>\n",
       "      <td>0.001303</td>\n",
       "      <td>1.101811</td>\n",
       "      <td>0.991398</td>\n",
       "      <td>0.089286</td>\n",
       "      <td>0.092403</td>\n",
       "      <td>0.359670</td>\n",
       "    </tr>\n",
       "    <tr>\n",
       "      <th>33926</th>\n",
       "      <td>(pasta, escalope)</td>\n",
       "      <td>(french fries, mushroom cream sauce)</td>\n",
       "      <td>0.005867</td>\n",
       "      <td>0.004667</td>\n",
       "      <td>0.001067</td>\n",
       "      <td>0.181818</td>\n",
       "      <td>38.961039</td>\n",
       "      <td>1.0</td>\n",
       "      <td>0.001039</td>\n",
       "      <td>1.216519</td>\n",
       "      <td>0.980083</td>\n",
       "      <td>0.112676</td>\n",
       "      <td>0.177982</td>\n",
       "      <td>0.205195</td>\n",
       "    </tr>\n",
       "    <tr>\n",
       "      <th>33931</th>\n",
       "      <td>(french fries, mushroom cream sauce)</td>\n",
       "      <td>(pasta, escalope)</td>\n",
       "      <td>0.004667</td>\n",
       "      <td>0.005867</td>\n",
       "      <td>0.001067</td>\n",
       "      <td>0.228571</td>\n",
       "      <td>38.961039</td>\n",
       "      <td>1.0</td>\n",
       "      <td>0.001039</td>\n",
       "      <td>1.288691</td>\n",
       "      <td>0.978902</td>\n",
       "      <td>0.112676</td>\n",
       "      <td>0.224019</td>\n",
       "      <td>0.205195</td>\n",
       "    </tr>\n",
       "    <tr>\n",
       "      <th>33935</th>\n",
       "      <td>(mushroom cream sauce)</td>\n",
       "      <td>(pasta, escalope, french fries)</td>\n",
       "      <td>0.019067</td>\n",
       "      <td>0.001600</td>\n",
       "      <td>0.001067</td>\n",
       "      <td>0.055944</td>\n",
       "      <td>34.965035</td>\n",
       "      <td>1.0</td>\n",
       "      <td>0.001036</td>\n",
       "      <td>1.057564</td>\n",
       "      <td>0.990281</td>\n",
       "      <td>0.054422</td>\n",
       "      <td>0.054431</td>\n",
       "      <td>0.361305</td>\n",
       "    </tr>\n",
       "    <tr>\n",
       "      <th>33922</th>\n",
       "      <td>(pasta, escalope, french fries)</td>\n",
       "      <td>(mushroom cream sauce)</td>\n",
       "      <td>0.001600</td>\n",
       "      <td>0.019067</td>\n",
       "      <td>0.001067</td>\n",
       "      <td>0.666667</td>\n",
       "      <td>34.965035</td>\n",
       "      <td>1.0</td>\n",
       "      <td>0.001036</td>\n",
       "      <td>2.942800</td>\n",
       "      <td>0.972957</td>\n",
       "      <td>0.054422</td>\n",
       "      <td>0.660188</td>\n",
       "      <td>0.361305</td>\n",
       "    </tr>\n",
       "    <tr>\n",
       "      <th>33932</th>\n",
       "      <td>(pasta)</td>\n",
       "      <td>(escalope, french fries, mushroom cream sauce)</td>\n",
       "      <td>0.015733</td>\n",
       "      <td>0.002000</td>\n",
       "      <td>0.001067</td>\n",
       "      <td>0.067797</td>\n",
       "      <td>33.898305</td>\n",
       "      <td>1.0</td>\n",
       "      <td>0.001035</td>\n",
       "      <td>1.070582</td>\n",
       "      <td>0.986013</td>\n",
       "      <td>0.064000</td>\n",
       "      <td>0.065928</td>\n",
       "      <td>0.300565</td>\n",
       "    </tr>\n",
       "    <tr>\n",
       "      <th>33925</th>\n",
       "      <td>(escalope, french fries, mushroom cream sauce)</td>\n",
       "      <td>(pasta)</td>\n",
       "      <td>0.002000</td>\n",
       "      <td>0.015733</td>\n",
       "      <td>0.001067</td>\n",
       "      <td>0.533333</td>\n",
       "      <td>33.898305</td>\n",
       "      <td>1.0</td>\n",
       "      <td>0.001035</td>\n",
       "      <td>2.109143</td>\n",
       "      <td>0.972445</td>\n",
       "      <td>0.064000</td>\n",
       "      <td>0.525874</td>\n",
       "      <td>0.300565</td>\n",
       "    </tr>\n",
       "  </tbody>\n",
       "</table>\n",
       "</div>"
      ],
      "text/plain": [
       "                                          antecedents  \\\n",
       "33927                           (pasta, french fries)   \n",
       "33930                (escalope, mushroom cream sauce)   \n",
       "33772                          (mineral water, pasta)   \n",
       "33777                                  (shrimp, eggs)   \n",
       "33926                               (pasta, escalope)   \n",
       "33931            (french fries, mushroom cream sauce)   \n",
       "33935                          (mushroom cream sauce)   \n",
       "33922                 (pasta, escalope, french fries)   \n",
       "33932                                         (pasta)   \n",
       "33925  (escalope, french fries, mushroom cream sauce)   \n",
       "\n",
       "                                          consequents  antecedent support  \\\n",
       "33927                (escalope, mushroom cream sauce)            0.003067   \n",
       "33930                           (pasta, french fries)            0.005733   \n",
       "33772                                  (shrimp, eggs)            0.002133   \n",
       "33777                          (mineral water, pasta)            0.014133   \n",
       "33926            (french fries, mushroom cream sauce)            0.005867   \n",
       "33931                               (pasta, escalope)            0.004667   \n",
       "33935                 (pasta, escalope, french fries)            0.019067   \n",
       "33922                          (mushroom cream sauce)            0.001600   \n",
       "33932  (escalope, french fries, mushroom cream sauce)            0.015733   \n",
       "33925                                         (pasta)            0.002000   \n",
       "\n",
       "       consequent support   support  confidence       lift  representativity  \\\n",
       "33927            0.005733  0.001067    0.347826  60.667341               1.0   \n",
       "33930            0.003067  0.001067    0.186047  60.667341               1.0   \n",
       "33772            0.014133  0.001333    0.625000  44.221698               1.0   \n",
       "33777            0.002133  0.001333    0.094340  44.221698               1.0   \n",
       "33926            0.004667  0.001067    0.181818  38.961039               1.0   \n",
       "33931            0.005867  0.001067    0.228571  38.961039               1.0   \n",
       "33935            0.001600  0.001067    0.055944  34.965035               1.0   \n",
       "33922            0.019067  0.001067    0.666667  34.965035               1.0   \n",
       "33932            0.002000  0.001067    0.067797  33.898305               1.0   \n",
       "33925            0.015733  0.001067    0.533333  33.898305               1.0   \n",
       "\n",
       "       leverage  conviction  zhangs_metric   jaccard  certainty  kulczynski  \n",
       "33927  0.001049    1.524542       0.986542  0.137931   0.344065    0.266936  \n",
       "33930  0.001049    1.224804       0.989188  0.137931   0.183543    0.266936  \n",
       "33772  0.001303    2.628978       0.979476  0.089286   0.619624    0.359670  \n",
       "33777  0.001303    1.101811       0.991398  0.089286   0.092403    0.359670  \n",
       "33926  0.001039    1.216519       0.980083  0.112676   0.177982    0.205195  \n",
       "33931  0.001039    1.288691       0.978902  0.112676   0.224019    0.205195  \n",
       "33935  0.001036    1.057564       0.990281  0.054422   0.054431    0.361305  \n",
       "33922  0.001036    2.942800       0.972957  0.054422   0.660188    0.361305  \n",
       "33932  0.001035    1.070582       0.986013  0.064000   0.065928    0.300565  \n",
       "33925  0.001035    2.109143       0.972445  0.064000   0.525874    0.300565  "
      ]
     },
     "execution_count": 19,
     "metadata": {},
     "output_type": "execute_result"
    }
   ],
   "source": [
    "rules.head(10)"
   ]
  },
  {
   "cell_type": "markdown",
   "id": "40ce80d5",
   "metadata": {},
   "source": [
    "#### Interview Questions:"
   ]
  },
  {
   "cell_type": "markdown",
   "id": "ed4098c7",
   "metadata": {},
   "source": [
    "1.What is lift and why is it important in Association rules? Lift measures the strength of an association rule by comparing the observed co-occurrence of items to their expected co-occurrence if they were independent. It is important because a lift value greater than 1 indicates a positive association, while a value less than 1 indicates a negative association."
   ]
  },
  {
   "cell_type": "markdown",
   "id": "0c32979d",
   "metadata": {},
   "source": [
    "2.What is support and confidence? How do you calculate them? Support: This measure gives an idea of how frequent an itemset is in all the transactions. Support(X,Y)= Transactions containing both X and Y / Total number of transactions Confidence: This measure defines the likeliness of occurrence of consequent in the cart given that the cart already has the antecedents. Confidence(X,Y)= Transactions containing both X and Y / Transactions containing X\n",
    "\n"
   ]
  },
  {
   "cell_type": "markdown",
   "id": "8f4c15a9",
   "metadata": {},
   "source": [
    "3.What are some limitations or challenges of Association rule mining? Association rule mining can generate an overwhelming number of rules, many of which may be trivial or redundant. It can struggle with handling large datasets efficiently, leading to high computational costs. Additionally, it may not capture complex relationships beyond simple co-occurrences."
   ]
  },
  {
   "cell_type": "markdown",
   "id": "75da9cac",
   "metadata": {},
   "source": [
    "#### Conclusion\n"
   ]
  },
  {
   "cell_type": "markdown",
   "id": "524cd23a",
   "metadata": {},
   "source": [
    "The Apriori algorithm successfully identified frequent itemsets and generated association rules. Key findings include:\n",
    "\n"
   ]
  },
  {
   "cell_type": "markdown",
   "id": "73f3fbcd",
   "metadata": {},
   "source": [
    "1.**Strong Associations:** Rules with high lift values indicate strong relationships between items.\n",
    "\n",
    "2.**Useful Metrics:** Support measures frequency, while confidence measures likelihood of the consequent given the antecedent.\n",
    "\n",
    "3.**Challenges:** The algorithm can produce many rules, which may be overwhelming and computationally intensive.\n"
   ]
  },
  {
   "cell_type": "markdown",
   "id": "3a4ea8e8",
   "metadata": {},
   "source": [
    "Recommendations include focusing on actionable rules and optimizing for large datasets."
   ]
  },
  {
   "cell_type": "code",
   "execution_count": null,
   "id": "741dea07",
   "metadata": {},
   "outputs": [],
   "source": []
  }
 ],
 "metadata": {
  "kernelspec": {
   "display_name": "Python 3 (ipykernel)",
   "language": "python",
   "name": "python3"
  },
  "language_info": {
   "codemirror_mode": {
    "name": "ipython",
    "version": 3
   },
   "file_extension": ".py",
   "mimetype": "text/x-python",
   "name": "python",
   "nbconvert_exporter": "python",
   "pygments_lexer": "ipython3",
   "version": "3.10.9"
  }
 },
 "nbformat": 4,
 "nbformat_minor": 5
}
