{
 "cells": [
  {
   "cell_type": "markdown",
   "id": "f1142771",
   "metadata": {},
   "source": [
    "# Hypothesis Testing"
   ]
  },
  {
   "cell_type": "markdown",
   "id": "4ac76bc5",
   "metadata": {},
   "source": [
    "### 1. State the Hypotheses Statement:"
   ]
  },
  {
   "cell_type": "markdown",
   "id": "e61b73f1",
   "metadata": {},
   "source": [
    "Null Hypothesis (H0): The mean weekly operating cost is as per the theoretical model, i.e., (𝜇 =1000+ \n",
    "5X ).\n"
   ]
  },
  {
   "cell_type": "markdown",
   "id": "00d08910",
   "metadata": {},
   "source": [
    "Alternative Hypothesis ((H1): The mean weekly operating cost is higher than the theoretical model, i.e., 𝜇 > \n",
    "1000+5X )"
   ]
  },
  {
   "cell_type": "markdown",
   "id": "e8ed1bf8",
   "metadata": {},
   "source": [
    "### 2. Calculate the Test Statistic:\n"
   ]
  },
  {
   "cell_type": "markdown",
   "id": "30e8651b",
   "metadata": {},
   "source": [
    "\n",
    "The theoretical mean weekly cost (( \\mu )) can be calculated using the provided cost model: μ=1000+5×600=$4,000"
   ]
  },
  {
   "cell_type": "code",
   "execution_count": 18,
   "id": "8d155671",
   "metadata": {},
   "outputs": [],
   "source": [
    "import numpy as np \n",
    "import pandas as pd\n",
    "import scipy.stats as st"
   ]
  },
  {
   "cell_type": "code",
   "execution_count": 19,
   "id": "1e6753ad",
   "metadata": {},
   "outputs": [],
   "source": [
    "# Given data in problem statement\n",
    "sample_mean = 3050\n",
    "population_mean = 4000\n",
    "population_std = 125\n",
    "n = 25\n",
    "alpha = 0.05"
   ]
  },
  {
   "cell_type": "code",
   "execution_count": 22,
   "id": "bb23e98b",
   "metadata": {},
   "outputs": [
    {
     "name": "stdout",
     "output_type": "stream",
     "text": [
      "test_statistic : -38.0\n"
     ]
    }
   ],
   "source": [
    "# Calculate the t-statistic value\n",
    "t_value = (sample_mean-population_mean) / (population_std / np.sqrt(n))\n",
    "print(f'test_statistic : {t_value}')"
   ]
  },
  {
   "cell_type": "code",
   "execution_count": 24,
   "id": "8bce85d4",
   "metadata": {},
   "outputs": [
    {
     "name": "stdout",
     "output_type": "stream",
     "text": [
      "p_value : 2.9607810808177907e-23\n"
     ]
    }
   ],
   "source": [
    "# Calculate the p-value using scipy.stats model\n",
    "p_value = st.t.cdf(t_value,df = n-1)\n",
    "print(f'p_value : {p_value}')"
   ]
  },
  {
   "cell_type": "code",
   "execution_count": 26,
   "id": "d0e9fd31",
   "metadata": {},
   "outputs": [
    {
     "name": "stdout",
     "output_type": "stream",
     "text": [
      "Fail to reject the Null Hypothesis, i.e., the weekly operating cost is equal to the theoretical weekly operating cost.\n"
     ]
    }
   ],
   "source": [
    "# Decision based on p-value\n",
    "if p_value > alpha :\n",
    "    print('We reject the Null hypothesis, i.e., the weekly operating cost is not equal to the theoretical weekly operating cost.')\n",
    "else:\n",
    "    print('Fail to reject the Null Hypothesis, i.e., the weekly operating cost is equal to the theoretical weekly operating cost.')\n"
   ]
  },
  {
   "cell_type": "code",
   "execution_count": 28,
   "id": "55ec5471",
   "metadata": {},
   "outputs": [
    {
     "name": "stdout",
     "output_type": "stream",
     "text": [
      "critical_value :-1.6448536269514729\n"
     ]
    }
   ],
   "source": [
    "# Determine the critical value for alpha = 0.05 (one-tailed test)\n",
    "critical_value = st.norm.ppf(alpha)\n",
    "print(f'critical_value :{critical_value}')"
   ]
  },
  {
   "cell_type": "markdown",
   "id": "1b82d1b7",
   "metadata": {},
   "source": [
    "# Results and conclusion"
   ]
  },
  {
   "cell_type": "markdown",
   "id": "b2fb4506",
   "metadata": {},
   "source": [
    "### 1.Test Statistic Calculation:"
   ]
  },
  {
   "cell_type": "markdown",
   "id": "2af79e69",
   "metadata": {},
   "source": [
    "Test Statistic ((t)) = -38.0\n"
   ]
  },
  {
   "cell_type": "markdown",
   "id": "16354fc0",
   "metadata": {},
   "source": [
    "### P-value Calculation:\n"
   ]
  },
  {
   "cell_type": "markdown",
   "id": "cf3ad3b0",
   "metadata": {},
   "source": [
    "P-value = (2.9607810808177907e-23)\n"
   ]
  },
  {
   "cell_type": "markdown",
   "id": "bc4a3a03",
   "metadata": {},
   "source": [
    "### Decision: "
   ]
  },
  {
   "cell_type": "markdown",
   "id": "0f5ffc02",
   "metadata": {},
   "source": [
    "Since the p-value ((2.9607810808177907e-23)) is less than the alpha level (0.05), we reject the null hypothesis.\n"
   ]
  },
  {
   "cell_type": "markdown",
   "id": "fbd3f5d8",
   "metadata": {},
   "source": [
    "### Conclusion: "
   ]
  },
  {
   "cell_type": "markdown",
   "id": "92817054",
   "metadata": {},
   "source": [
    "There is strong evidence to support the restaurant owners' claim that the weekly operating costs are higher than the model suggests."
   ]
  },
  {
   "cell_type": "markdown",
   "id": "392aafcc",
   "metadata": {},
   "source": [
    "\n",
    "This code covers the hypothesis testing as required, with a clear decision-making process based on the calculated p-value and the given level of significance.\n"
   ]
  },
  {
   "cell_type": "markdown",
   "id": "afedaefa",
   "metadata": {},
   "source": [
    "# Chi Square test :"
   ]
  },
  {
   "cell_type": "markdown",
   "id": "2989abf2",
   "metadata": {},
   "source": [
    "### Background:"
   ]
  },
  {
   "cell_type": "markdown",
   "id": "7c6943a0",
   "metadata": {},
   "source": [
    "Mizzare Corporation has collected data on customer satisfaction levels for two types of smart home devices: Smart Thermostats and Smart Lights. They want to determine if there's a significant association between the type of device purchased and the customer's satisfaction level."
   ]
  },
  {
   "cell_type": "markdown",
   "id": "d42581fd",
   "metadata": {},
   "source": [
    "### Objective:"
   ]
  },
  {
   "cell_type": "markdown",
   "id": "627c6b1c",
   "metadata": {},
   "source": [
    "To use the Chi-Square test for independence to determine if there's a significant association between the type of smart home device purchased (Smart Thermostats vs. Smart Lights) and the customer satisfaction level. ."
   ]
  },
  {
   "cell_type": "markdown",
   "id": "60e208e4",
   "metadata": {},
   "source": [
    "### State the null hypothesis"
   ]
  },
  {
   "cell_type": "markdown",
   "id": "84ffb018",
   "metadata": {},
   "source": [
    "Null Hypothesis(H0) = The columns (device type and satisfaction level) are independent, i.e., there is no significant association between the type of smart home device purchased and customer satisfaction level.\n",
    "\n",
    "Alternate Hypothesis (H_1)= The Columns are Dependent i.e there is a relationship between two columns."
   ]
  },
  {
   "cell_type": "code",
   "execution_count": 1,
   "id": "498f8949",
   "metadata": {},
   "outputs": [],
   "source": [
    "import numpy as np \n",
    "import pandas as pd\n",
    "from scipy.stats import chi2_contingency\n",
    "import scipy.stats as st"
   ]
  },
  {
   "cell_type": "code",
   "execution_count": 2,
   "id": "39635e75",
   "metadata": {},
   "outputs": [],
   "source": [
    "# Given data\n",
    "data = {\n",
    "    'satisfaction' : ['very satisfied','satisfied','neutral','unsatisfied','very unsatisfied'],\n",
    "    'smart_Thermostat' : [50,80,60,30,20],\n",
    "    'Smart_light' : [70,100,90,50,50]\n",
    "}"
   ]
  },
  {
   "cell_type": "code",
   "execution_count": 3,
   "id": "c7a8010b",
   "metadata": {},
   "outputs": [],
   "source": [
    "# Convert the data to a DataFrame\n",
    "data = pd.DataFrame(data)"
   ]
  },
  {
   "cell_type": "code",
   "execution_count": 4,
   "id": "4bc7ff03",
   "metadata": {},
   "outputs": [
    {
     "data": {
      "text/html": [
       "<div>\n",
       "<style scoped>\n",
       "    .dataframe tbody tr th:only-of-type {\n",
       "        vertical-align: middle;\n",
       "    }\n",
       "\n",
       "    .dataframe tbody tr th {\n",
       "        vertical-align: top;\n",
       "    }\n",
       "\n",
       "    .dataframe thead th {\n",
       "        text-align: right;\n",
       "    }\n",
       "</style>\n",
       "<table border=\"1\" class=\"dataframe\">\n",
       "  <thead>\n",
       "    <tr style=\"text-align: right;\">\n",
       "      <th></th>\n",
       "      <th>satisfaction</th>\n",
       "      <th>smart_Thermostat</th>\n",
       "      <th>Smart_light</th>\n",
       "    </tr>\n",
       "  </thead>\n",
       "  <tbody>\n",
       "    <tr>\n",
       "      <th>0</th>\n",
       "      <td>very satisfied</td>\n",
       "      <td>50</td>\n",
       "      <td>70</td>\n",
       "    </tr>\n",
       "    <tr>\n",
       "      <th>1</th>\n",
       "      <td>satisfied</td>\n",
       "      <td>80</td>\n",
       "      <td>100</td>\n",
       "    </tr>\n",
       "    <tr>\n",
       "      <th>2</th>\n",
       "      <td>neutral</td>\n",
       "      <td>60</td>\n",
       "      <td>90</td>\n",
       "    </tr>\n",
       "    <tr>\n",
       "      <th>3</th>\n",
       "      <td>unsatisfied</td>\n",
       "      <td>30</td>\n",
       "      <td>50</td>\n",
       "    </tr>\n",
       "    <tr>\n",
       "      <th>4</th>\n",
       "      <td>very unsatisfied</td>\n",
       "      <td>20</td>\n",
       "      <td>50</td>\n",
       "    </tr>\n",
       "  </tbody>\n",
       "</table>\n",
       "</div>"
      ],
      "text/plain": [
       "       satisfaction  smart_Thermostat  Smart_light\n",
       "0    very satisfied                50           70\n",
       "1         satisfied                80          100\n",
       "2           neutral                60           90\n",
       "3       unsatisfied                30           50\n",
       "4  very unsatisfied                20           50"
      ]
     },
     "execution_count": 4,
     "metadata": {},
     "output_type": "execute_result"
    }
   ],
   "source": [
    "data.head()"
   ]
  },
  {
   "cell_type": "code",
   "execution_count": 5,
   "id": "fca412de",
   "metadata": {},
   "outputs": [
    {
     "name": "stdout",
     "output_type": "stream",
     "text": [
      "       satisfaction  smart_Thermostat  Smart_light\n",
      "0    very satisfied                50           70\n",
      "1         satisfied                80          100\n",
      "2           neutral                60           90\n",
      "3       unsatisfied                30           50\n",
      "4  very unsatisfied                20           50\n"
     ]
    }
   ],
   "source": [
    "# Display the data\n",
    "print(data)"
   ]
  },
  {
   "cell_type": "code",
   "execution_count": 6,
   "id": "2289a6be",
   "metadata": {},
   "outputs": [],
   "source": [
    "# Create the contingency table\n",
    "contingency_table = data[['smart_Thermostat','Smart_light']]"
   ]
  },
  {
   "cell_type": "code",
   "execution_count": 9,
   "id": "ca5c651f",
   "metadata": {},
   "outputs": [],
   "source": [
    "# Perform the Chi-Square test for independence\n",
    "chi2_statistic,p_value,dof,expected_frequency = chi2_contingency(contingency_table)"
   ]
  },
  {
   "cell_type": "code",
   "execution_count": 11,
   "id": "05e9ff4d",
   "metadata": {},
   "outputs": [
    {
     "name": "stdout",
     "output_type": "stream",
     "text": [
      "chi2_statistic : 5.638227513227513\n",
      "p_value : 0.22784371130697179\n",
      "dof : 4\n",
      "expected_frequency : [[ 48.  72.]\n",
      " [ 72. 108.]\n",
      " [ 60.  90.]\n",
      " [ 32.  48.]\n",
      " [ 28.  42.]]\n"
     ]
    }
   ],
   "source": [
    "# Output the Chi-Square statistic, p-value, degrees of freedom, and expected frequencies\n",
    "print(f'chi2_statistic : {chi2_statistic}')\n",
    "print(f'p_value : {p_value}')\n",
    "print(f'dof : {dof}')\n",
    "print(f'expected_frequency : {expected_frequency}')"
   ]
  },
  {
   "cell_type": "code",
   "execution_count": 13,
   "id": "900f2938",
   "metadata": {},
   "outputs": [
    {
     "name": "stdout",
     "output_type": "stream",
     "text": [
      " critical val : 9.487729036781154\n"
     ]
    }
   ],
   "source": [
    "# Determine the critical value for alpha = 0.05\n",
    "alpha =0.05\n",
    "critical_val = st.chi2.ppf(1-alpha,dof)\n",
    "print(f' critical val : {critical_val}')"
   ]
  },
  {
   "cell_type": "code",
   "execution_count": 16,
   "id": "7ba931a0",
   "metadata": {},
   "outputs": [
    {
     "name": "stdout",
     "output_type": "stream",
     "text": [
      "Fail to reject the null hypothesis: There is no significant association between the type of smart home device purchased and the customer satisfaction level.\n"
     ]
    }
   ],
   "source": [
    "# Make the decision\n",
    "if chi2_statistic > critical_val:\n",
    "    print('Reject the null hypothesis: There is a significant association between the type of smart home device purchased and the customer satisfaction level.')\n",
    "else:\n",
    "    print('Fail to reject the null hypothesis: There is no significant association between the type of smart home device purchased and the customer satisfaction level.')"
   ]
  },
  {
   "cell_type": "markdown",
   "id": "71c6c52f",
   "metadata": {},
   "source": [
    "### Results and Conclusion :"
   ]
  },
  {
   "cell_type": "markdown",
   "id": "0e813ac3",
   "metadata": {},
   "source": [
    "Chi-Square Statistic Calculation:\n",
    "\n",
    "Chi-Square Statistic: 5.638 P-value: 0.2278 Degrees of Freedom: 4 Critical Value: α=0.05 and 4 degrees of freedom, the critical value is 9.488.\n",
    "\n",
    "Decision: Since the Chi-Square statistic (5.638) is less than the critical value (9.488), we fail to reject the null hypothesis.\n",
    "\n",
    "Conclusion: There is no significant association between the type of smart home device purchased and the customer satisfaction level."
   ]
  },
  {
   "cell_type": "code",
   "execution_count": null,
   "id": "0a009892",
   "metadata": {},
   "outputs": [],
   "source": []
  }
 ],
 "metadata": {
  "kernelspec": {
   "display_name": "Python 3 (ipykernel)",
   "language": "python",
   "name": "python3"
  },
  "language_info": {
   "codemirror_mode": {
    "name": "ipython",
    "version": 3
   },
   "file_extension": ".py",
   "mimetype": "text/x-python",
   "name": "python",
   "nbconvert_exporter": "python",
   "pygments_lexer": "ipython3",
   "version": "3.10.9"
  }
 },
 "nbformat": 4,
 "nbformat_minor": 5
}
